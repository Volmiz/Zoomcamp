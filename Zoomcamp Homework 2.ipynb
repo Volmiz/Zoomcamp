{
 "cells": [
  {
   "cell_type": "code",
   "execution_count": null,
   "id": "ae6d9006",
   "metadata": {},
   "outputs": [],
   "source": [
    "import pandas as pd\n",
    "import numpy as np\n",
    "from sklearn.model_selection import train_test_split\n",
    "from sklearn.linear_model import LinearRegression\n",
    "from sklearn.metrics import mean_squared_error\n",
    "\n",
    "# Load the data\n",
    "data = pd.read_csv(\"C:\\Data home 2\\housing.csv\\housing.csv\")"
   ]
  },
  {
   "cell_type": "code",
   "execution_count": null,
   "id": "5d28be9b",
   "metadata": {},
   "outputs": [],
   "source": [
    "# EDA\n",
    "# Look at the median_house_value variable\n",
    "print(\"Question 1:\")\n",
    "print(\"There's one feature with missing values. What is it?\")\n",
    "print(data.isnull().sum())\n",
    "\n",
    "# Preparing the dataset\n",
    "data = data[data['ocean_proximity'].isin(['<1H OCEAN', 'INLAND'])]\n",
    "selected_columns = ['latitude', 'longitude', 'housing_median_age', 'total_rooms', 'total_bedrooms', 'population', 'households', 'median_income', 'median_house_value']\n",
    "data = data[selected_columns]"
   ]
  },
  {
   "cell_type": "code",
   "execution_count": null,
   "id": "a03b64c0",
   "metadata": {},
   "outputs": [],
   "source": [
    "# Question 2\n",
    "print(\"\\nQuestion 2:\")\n",
    "print(\"What's the median (50% percentile) for variable 'population'?\")\n",
    "print(data['population'].median())\n",
    "\n",
    "# Prepare and split the dataset\n",
    "np.random.seed(42)  # Set seed for reproducibility\n",
    "data = data.sample(frac=1).reset_index(drop=True)  # Shuffle the dataset\n",
    "X = data.drop('median_house_value', axis=1)\n",
    "y = np.log1p(data['median_house_value'])  # Apply log transformation\n",
    "\n",
    "X_train, X_val, X_test = np.split(X, [int(0.6 * len(X)), int(0.8 * len(X))])\n",
    "y_train, y_val, y_test = np.split(y, [int(0.6 * len(y)), int(0.8 * len(y))])\n"
   ]
  },
  {
   "cell_type": "code",
   "execution_count": null,
   "id": "e9b6cb07",
   "metadata": {},
   "outputs": [],
   "source": [
    "# Question 3\n",
    "print(\"\\nQuestion 3:\")\n",
    "print(\"We need to deal with missing values for the column from Q1.\")\n",
    "print(\"Try both options: Fill it with 0 or with the mean of this variable.\")\n",
    "print(\"For each, train a linear regression model without regularization.\")\n",
    "print(\"Use the validation dataset to evaluate the models and compare the RMSE of each option.\")\n",
    "for strategy in ['zero', 'mean']:\n",
    "    if strategy == 'zero':\n",
    "        X_train_fill = X_train.fillna(0)\n",
    "        X_val_fill = X_val.fillna(0)\n",
    "    else:\n",
    "        mean = X_train['total_bedrooms'].mean()\n",
    "        X_train_fill = X_train.fillna(mean)\n",
    "        X_val_fill = X_val.fillna(mean)\n",
    "\n",
    "    model = LinearRegression()\n",
    "    model.fit(X_train_fill, y_train)\n",
    "    y_pred = model.predict(X_val_fill)\n",
    "    rmse = np.sqrt(mean_squared_error(y_val, y_pred))\n",
    "    print(f'RMSE with {strategy}: {round(rmse, 2)}')"
   ]
  },
  {
   "cell_type": "code",
   "execution_count": null,
   "id": "e027d6db",
   "metadata": {},
   "outputs": [],
   "source": [
    "# Question 4\n",
    "print(\"\\nQuestion 4:\")\n",
    "print(\"Now let's train a regularized linear regression.\")\n",
    "print(\"For this question, fill the NAs with 0.\")\n",
    "print(\"Try different values of r from this list: [0, 0.000001, 0.0001, 0.001, 0.01, 0.1, 1, 5, 10].\")\n",
    "print(\"Use RMSE to evaluate the model on the validation dataset.\")\n",
    "for r in [0, 1e-6, 1e-4, 1e-3, 1e-2, 1e-1, 1, 5, 10]:\n",
    "    model = LinearRegression()\n",
    "    model.fit(X_train.fillna(0), y_train)\n",
    "    y_pred = model.predict(X_val.fillna(0))\n",
    "    rmse = np.sqrt(mean_squared_error(y_val, y_pred))\n",
    "    print(f'RMSE with r={r}: {round(rmse, 2)}')"
   ]
  },
  {
   "cell_type": "code",
   "execution_count": null,
   "id": "ddc852dd",
   "metadata": {},
   "outputs": [],
   "source": [
    "# Question 5\n",
    "print(\"\\nQuestion 5:\")\n",
    "print(\"We used seed 42 for splitting the data. Let's find out how selecting the seed influences our score.\")\n",
    "print(\"Try different seed values: [0, 1, 2, 3, 4, 5, 6, 7, 8, 9].\")\n",
    "print(\"For each seed, do the train/validation/test split with 60%/20%/20% distribution.\")\n",
    "print(\"Fill the missing values with 0 and train a model without regularization.\")\n",
    "seed_scores = []\n",
    "seeds = [0, 1, 2, 3, 4, 5, 6, 7, 8, 9]\n",
    "for seed in seeds:\n",
    "    X_train, X_val, X_test = np.split(X.sample(frac=1, random_state=seed), [int(0.6 * len(X)), int(0.8 * len(X))])\n",
    "    y_train, y_val, y_test = np.split(y.sample(frac=1, random_state=seed), [int(0.6 * len(y)), int(0.8 * len(y))])\n",
    "    model = LinearRegression()\n",
    "    model.fit(X_train.fillna(0), y_train)\n",
    "    y_pred = model.predict(X_val.fillna(0))\n",
    "    rmse = np.sqrt(mean_squared_error(y_val, y_pred))\n",
    "    seed_scores.append(rmse)\n",
    "\n",
    "std_deviation = np.std(seed_scores)\n",
    "print(f'Standard Deviation of RMSE scores: {round(std_deviation, 3)}')"
   ]
  },
  {
   "cell_type": "code",
   "execution_count": null,
   "id": "9ee3d70c",
   "metadata": {},
   "outputs": [],
   "source": [
    "# Question 6\n",
    "print(\"\\nQuestion 6:\")\n",
    "print(\"Split the dataset like previously, use seed 9.\")\n",
    "print(\"Combine train and validation datasets.\")\n",
    "print(\"Fill the missing values with 0 and train a model with r=0.001.\")\n",
    "X_train, X_val, X_test = np.split(X.sample(frac=1, random_state=9), [int(0.6 * len(X)), int(0.8 * len(X))])\n",
    "y_train, y_val, y_test = np.split(y.sample(frac=1, random_state=9), [int(0.6 * len(y)), int(0.8 * len(y))])\n",
    "X_train = pd.concat([X_train, X_val])\n",
    "y_train = pd.concat([y_train, y_val])\n",
    "model = LinearRegression()\n",
    "model.fit(X_train.fillna(0), y_train)\n",
    "y_pred_test = model.predict(X_test.fillna(0))\n",
    "rmse_test = np.sqrt(mean_squared_error(y_test, y_pred_test))\n",
    "print(f'RMSE on the test dataset: {round(rmse_test, 2)}')"
   ]
  }
 ],
 "metadata": {
  "kernelspec": {
   "display_name": "Python 3 (ipykernel)",
   "language": "python",
   "name": "python3"
  },
  "language_info": {
   "codemirror_mode": {
    "name": "ipython",
    "version": 3
   },
   "file_extension": ".py",
   "mimetype": "text/x-python",
   "name": "python",
   "nbconvert_exporter": "python",
   "pygments_lexer": "ipython3",
   "version": "3.9.18"
  }
 },
 "nbformat": 4,
 "nbformat_minor": 5
}
