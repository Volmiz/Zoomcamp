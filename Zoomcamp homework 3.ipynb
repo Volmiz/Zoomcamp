{
 "cells": [
  {
   "cell_type": "code",
   "execution_count": 1,
   "id": "9439010e",
   "metadata": {},
   "outputs": [],
   "source": [
    "import pandas as pd\n",
    "from sklearn.model_selection import train_test_split\n",
    "from sklearn.feature_extraction import DictVectorizer\n",
    "from sklearn.linear_model import LogisticRegression\n",
    "from sklearn.metrics import accuracy_score\n",
    "from sklearn.metrics import mean_squared_error\n",
    "from sklearn.linear_model import Ridge\n",
    "from sklearn.metrics import mean_squared_error\n",
    "import numpy as np\n",
    "from sklearn.metrics import mutual_info_score\n",
    "\n",
    "data = pd.read_csv(\"C:\\Data\\data.homework_3.csv\")\n",
    "\n",
    "data.columns = data.columns.str.replace(' ', '_').str.lower()\n",
    "data.fillna(0, inplace=True)\n",
    "data.rename(columns={'msrp': 'price'}, inplace=True)\n"
   ]
  },
  {
   "cell_type": "markdown",
   "id": "92c8b383",
   "metadata": {},
   "source": [
    "Question 1: What is the most frequent observation (mode) for the column transmission_type?"
   ]
  },
  {
   "cell_type": "code",
   "execution_count": 2,
   "id": "cc7ab5af",
   "metadata": {},
   "outputs": [
    {
     "name": "stdout",
     "output_type": "stream",
     "text": [
      "Question 1 Answer: AUTOMATIC\n"
     ]
    }
   ],
   "source": [
    "most_frequent_transmission_type = data['transmission_type'].mode()[0]\n",
    "print(\"Question 1 Answer:\", most_frequent_transmission_type)"
   ]
  },
  {
   "cell_type": "markdown",
   "id": "54b599fb",
   "metadata": {},
   "source": [
    "Question 2: What are the two features that have the biggest correlation in this dataset?"
   ]
  },
  {
   "cell_type": "code",
   "execution_count": 3,
   "id": "68662680",
   "metadata": {},
   "outputs": [
    {
     "name": "stdout",
     "output_type": "stream",
     "text": [
      "Question 2 Answer: [('city_mpg', 'highway_mpg'), ('engine_cylinders', 'engine_hp')]\n"
     ]
    }
   ],
   "source": [
    "numerical_features = ['engine_hp', 'year', 'engine_cylinders', 'highway_mpg', 'city_mpg']\n",
    "correlation_matrix = data[numerical_features].corr()\n",
    "correlation_pair = correlation_matrix.unstack().sort_values(ascending=False).drop_duplicates()\n",
    "print(\"Question 2 Answer:\", correlation_pair[1:3].index.tolist())\n",
    "\n",
    "data['above_average'] = (data['price'] > data['price'].mean()).astype(int)\n",
    "\n",
    "X = data.drop(['price', 'above_average'], axis=1)\n",
    "y = data['above_average']\n",
    "X_train, X_temp, y_train, y_temp = train_test_split(X, y, test_size=0.4, random_state=42)\n",
    "X_val, X_test, y_val, y_test = train_test_split(X_temp, y_temp, test_size=0.5, random_state=42)"
   ]
  },
  {
   "cell_type": "markdown",
   "id": "89010177",
   "metadata": {},
   "source": [
    "Question 3: Which of these variables has the lowest mutual information score?"
   ]
  },
  {
   "cell_type": "code",
   "execution_count": 4,
   "id": "425eefb4",
   "metadata": {},
   "outputs": [
    {
     "name": "stdout",
     "output_type": "stream",
     "text": [
      "Question 3 Answer: transmission_type\n"
     ]
    }
   ],
   "source": [
    "categorical_features = ['make', 'model', 'transmission_type', 'vehicle_style']\n",
    "mi_scores = {}\n",
    "for feature in categorical_features:\n",
    "    mi_score = mutual_info_score(y_train, X_train[feature])\n",
    "    mi_scores[feature] = round(mi_score, 2)\n",
    "lowest_mi_feature = min(mi_scores, key=mi_scores.get)\n",
    "print(\"Question 3 Answer:\", lowest_mi_feature)"
   ]
  },
  {
   "cell_type": "markdown",
   "id": "12f3ae9a",
   "metadata": {},
   "source": [
    "Question 4: What accuracy did you get?"
   ]
  },
  {
   "cell_type": "code",
   "execution_count": 5,
   "id": "bac8e7eb",
   "metadata": {},
   "outputs": [
    {
     "name": "stdout",
     "output_type": "stream",
     "text": [
      "Question 4 Answer: 0.94\n"
     ]
    }
   ],
   "source": [
    "vectorizer = DictVectorizer(sparse=False)\n",
    "X_train_encoded = vectorizer.fit_transform(X_train[categorical_features].to_dict(orient='records'))\n",
    "X_val_encoded = vectorizer.transform(X_val[categorical_features].to_dict(orient='records'))\n",
    "\n",
    "model = LogisticRegression(solver='liblinear', C=10, max_iter=1000, random_state=42)\n",
    "model.fit(X_train_encoded, y_train)\n",
    "y_pred = model.predict(X_val_encoded)\n",
    "accuracy = round(accuracy_score(y_val, y_pred), 2)\n",
    "print(\"Question 4 Answer:\", accuracy)"
   ]
  },
  {
   "cell_type": "markdown",
   "id": "7da7cafc",
   "metadata": {},
   "source": [
    "Question 5: Which of the following features has the smallest difference?"
   ]
  },
  {
   "cell_type": "code",
   "execution_count": 6,
   "id": "7dca4d38",
   "metadata": {},
   "outputs": [
    {
     "name": "stdout",
     "output_type": "stream",
     "text": [
      "make 0.010079731430969296 0.9299202685690307\n",
      "model 0.020990348300461537 0.9190096516995384\n",
      "transmission_type 0.010919009651699452 0.9290809903483005\n",
      "vehicle_style 0.004204783885858099 0.9357952161141418\n",
      "year -0.004607637431808698 0.9446076374318086\n",
      "engine_hp 0.017633235417540916 0.922366764582459\n",
      "city_mpg 0.005463701216953387 0.9345362987830466\n",
      "highway_mpg 0.005463701216953387 0.9345362987830466\n"
     ]
    }
   ],
   "source": [
    "# Define the list of categorical and numerical features\n",
    "categorical_features = ['make', 'model', 'transmission_type', 'vehicle_style']\n",
    "numerical_features = ['year', 'engine_hp', 'city_mpg', 'highway_mpg']\n",
    "\n",
    "# Combine categorical and numerical features\n",
    "features = categorical_features + numerical_features\n",
    "\n",
    "# Calculate the original accuracy score\n",
    "original_score = accuracy\n",
    "\n",
    "for feature_to_exclude in features:\n",
    "    # Create a copy of the features list and exclude one feature at a time\n",
    "    subset = features.copy()\n",
    "    subset.remove(feature_to_exclude)\n",
    "\n",
    "    # Prepare the training data\n",
    "    train_dict = X_train[subset].to_dict(orient='records')\n",
    "\n",
    "    # Initialize and fit the DictVectorizer\n",
    "    dv = DictVectorizer(sparse=False)\n",
    "    dv.fit(train_dict)\n",
    "\n",
    "    # Transform the training data\n",
    "    X_train_temp = dv.transform(train_dict)\n",
    "\n",
    "    # Initialize and train the logistic regression model\n",
    "    model = LogisticRegression(solver='liblinear', C=1.0, max_iter=1000, random_state=42)\n",
    "    model.fit(X_train_temp, y_train)\n",
    "\n",
    "    # Prepare the validation data\n",
    "    val_dict = X_val[subset].to_dict(orient='records')\n",
    "    X_val_temp = dv.transform(val_dict)\n",
    "\n",
    "    # Make predictions on the validation data\n",
    "    y_pred = model.predict(X_val_temp)\n",
    "\n",
    "    # Calculate the accuracy score\n",
    "    score = accuracy_score(y_val, y_pred)\n",
    "\n",
    "    # Print the feature, the difference in accuracy, and the accuracy score\n",
    "    print(feature_to_exclude, original_score - score, score)\n"
   ]
  },
  {
   "cell_type": "markdown",
   "id": "1a454ec0",
   "metadata": {},
   "source": [
    "Question 6: Which of these alphas leads to the best RMSE on the validation set?"
   ]
  },
  {
   "cell_type": "code",
   "execution_count": 7,
   "id": "5a6176e1",
   "metadata": {},
   "outputs": [
    {
     "name": "stdout",
     "output_type": "stream",
     "text": [
      "Question 6 Answer: 0\n"
     ]
    }
   ],
   "source": [
    "X_train_encoded = vectorizer.fit_transform(X_train[categorical_features].to_dict(orient='records'))\n",
    "X_val_encoded = vectorizer.transform(X_val[categorical_features].to_dict(orient='records'))\n",
    "\n",
    "alphas = [0, 0.01, 0.1, 1, 10]\n",
    "best_alpha = None\n",
    "best_rmse = float('inf')\n",
    "\n",
    "for alpha in alphas:\n",
    "    model = Ridge(alpha=alpha, solver='sag', random_state=42)\n",
    "    model.fit(X_train_encoded, y_train)\n",
    "    y_pred = model.predict(X_val_encoded)\n",
    "    rmse = round(np.sqrt(mean_squared_error(y_val, y_pred)), 3)\n",
    "\n",
    "    if rmse < best_rmse:\n",
    "        best_rmse = rmse\n",
    "        best_alpha = alpha\n",
    "\n",
    "print(\"Question 6 Answer:\", best_alpha)"
   ]
  }
 ],
 "metadata": {
  "kernelspec": {
   "display_name": "Python 3 (ipykernel)",
   "language": "python",
   "name": "python3"
  },
  "language_info": {
   "codemirror_mode": {
    "name": "ipython",
    "version": 3
   },
   "file_extension": ".py",
   "mimetype": "text/x-python",
   "name": "python",
   "nbconvert_exporter": "python",
   "pygments_lexer": "ipython3",
   "version": "3.9.18"
  }
 },
 "nbformat": 4,
 "nbformat_minor": 5
}
