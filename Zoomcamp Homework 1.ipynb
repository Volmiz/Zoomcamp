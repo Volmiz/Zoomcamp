{
 "cells": [
  {
   "cell_type": "code",
   "execution_count": 3,
   "id": "39919cb1",
   "metadata": {},
   "outputs": [
    {
     "data": {
      "text/plain": [
       "'2.0.3'"
      ]
     },
     "execution_count": 3,
     "metadata": {},
     "output_type": "execute_result"
    }
   ],
   "source": [
    "import numpy as np\n",
    "import pandas as pd\n",
    "# 1\n",
    "pd.__version__"
   ]
  },
  {
   "cell_type": "code",
   "execution_count": 4,
   "id": "5e099fb9",
   "metadata": {},
   "outputs": [
    {
     "name": "stdout",
     "output_type": "stream",
     "text": [
      "10\n"
     ]
    }
   ],
   "source": [
    "# 2\n",
    "# Load the dataset\n",
    "data = pd.read_csv(\"https://raw.githubusercontent.com/alexeygrigorev/datasets/master/housing.csv\")\n",
    "# Get the number of columns\n",
    "num_columns = data.shape[1]\n",
    "print(num_columns)"
   ]
  },
  {
   "cell_type": "code",
   "execution_count": 5,
   "id": "e47dbc91",
   "metadata": {},
   "outputs": [
    {
     "name": "stdout",
     "output_type": "stream",
     "text": [
      "['total_bedrooms']\n"
     ]
    }
   ],
   "source": [
    "# 3\n",
    "missing_columns = data.columns[data.isna().any()].tolist()\n",
    "print(missing_columns)"
   ]
  },
  {
   "cell_type": "code",
   "execution_count": 6,
   "id": "473f4eaa",
   "metadata": {},
   "outputs": [
    {
     "name": "stdout",
     "output_type": "stream",
     "text": [
      "5\n"
     ]
    }
   ],
   "source": [
    "# 4\n",
    "# Get the number of unique values in the ocean_proximity column\n",
    "unique_values = data['ocean_proximity'].nunique()\n",
    "print(unique_values)"
   ]
  },
  {
   "cell_type": "code",
   "execution_count": 7,
   "id": "c5d11709",
   "metadata": {},
   "outputs": [
    {
     "name": "stdout",
     "output_type": "stream",
     "text": [
      "259212.31179039303\n"
     ]
    }
   ],
   "source": [
    "# 5\n",
    "# Calculate the average median_house_value for houses near the bay\n",
    "average_value_near_bay = data[data['ocean_proximity'] == 'NEAR BAY']['median_house_value'].mean()\n",
    "print(average_value_near_bay)"
   ]
  },
  {
   "cell_type": "code",
   "execution_count": 8,
   "id": "5a84af3c",
   "metadata": {},
   "outputs": [
    {
     "name": "stdout",
     "output_type": "stream",
     "text": [
      "True\n"
     ]
    }
   ],
   "source": [
    "# 6\n",
    "# Calculate the average of total_bedrooms\n",
    "average_total_bedrooms_before = data['total_bedrooms'].mean()\n",
    "\n",
    "# Fill missing values in total_bedrooms with the mean value\n",
    "data['total_bedrooms'].fillna(average_total_bedrooms_before, inplace=True)\n",
    "\n",
    "# Calculate the average of total_bedrooms again\n",
    "average_total_bedrooms_after = data['total_bedrooms'].mean()\n",
    "\n",
    "# Check if it has changed\n",
    "has_changed = average_total_bedrooms_before != average_total_bedrooms_after\n",
    "print(has_changed)"
   ]
  },
  {
   "cell_type": "code",
   "execution_count": 9,
   "id": "32b680a0",
   "metadata": {},
   "outputs": [
    {
     "name": "stdout",
     "output_type": "stream",
     "text": [
      "5.6992294550655656\n"
     ]
    }
   ],
   "source": [
    "# 7\n",
    "island_data = data[data['ocean_proximity'] == 'ISLAND']\n",
    "\n",
    "# Select specific columns\n",
    "selected_columns = island_data[['housing_median_age', 'total_rooms', 'total_bedrooms']]\n",
    "\n",
    "# Get the underlying NumPy array\n",
    "X = selected_columns.to_numpy()\n",
    "\n",
    "# Compute matrix-matrix multiplication between the transpose of X and X\n",
    "XTX = np.dot(X.T, X)\n",
    "\n",
    "# Compute the inverse of XTX\n",
    "XTX_inverse = np.linalg.inv(XTX)\n",
    "\n",
    "# Create an array y with values\n",
    "y = np.array([950, 1300, 800, 1000, 1300])\n",
    "\n",
    "# Multiply the inverse of XTX with the transpose of X and then multiply the result by y\n",
    "w = np.dot(np.dot(XTX_inverse, X.T), y)\n",
    "\n",
    "# Get the last element of w\n",
    "last_element_of_w = w[-1]\n",
    "print(last_element_of_w)"
   ]
  }
 ],
 "metadata": {
  "kernelspec": {
   "display_name": "Python 3 (ipykernel)",
   "language": "python",
   "name": "python3"
  },
  "language_info": {
   "codemirror_mode": {
    "name": "ipython",
    "version": 3
   },
   "file_extension": ".py",
   "mimetype": "text/x-python",
   "name": "python",
   "nbconvert_exporter": "python",
   "pygments_lexer": "ipython3",
   "version": "3.9.18"
  }
 },
 "nbformat": 4,
 "nbformat_minor": 5
}
