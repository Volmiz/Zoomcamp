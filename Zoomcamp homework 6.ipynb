{
 "cells": [
  {
   "cell_type": "code",
   "execution_count": 9,
   "id": "3039ea28",
   "metadata": {},
   "outputs": [
    {
     "name": "stdout",
     "output_type": "stream",
     "text": [
      "|--- ocean_proximity=<1H OCEAN <= 0.50\n",
      "|   |--- value: [11.61]\n",
      "|--- ocean_proximity=<1H OCEAN >  0.50\n",
      "|   |--- value: [12.30]\n",
      "\n"
     ]
    }
   ],
   "source": [
    "# Import the necessary libraries and dependencies\n",
    "import pandas as pd\n",
    "import numpy as np\n",
    "from sklearn.model_selection import train_test_split\n",
    "from sklearn.ensemble import RandomForestRegressor\n",
    "from sklearn.metrics import mean_squared_error\n",
    "from sklearn.tree import DecisionTreeRegressor\n",
    "from sklearn.feature_extraction import DictVectorizer\n",
    "import xgboost as xgb\n",
    "import re\n",
    "import matplotlib.pyplot as plt\n",
    "from tqdm.auto import tqdm\n",
    "\n",
    "# Read the data\n",
    "data = pd.read_csv(\"C:\\Data\\housing.csv\")\n",
    "\n",
    "# Filter the data\n",
    "data = data[data['ocean_proximity'].isin(['<1H OCEAN', 'INLAND'])]\n",
    "\n",
    "# Fill missing values with zeros\n",
    "data['total_bedrooms'].fillna(0, inplace=True)\n",
    "\n",
    "# Apply log transform to median_house_value\n",
    "data['median_house_value'] = np.log1p(data['median_house_value'])\n",
    "\n",
    "# Perform train/validation/test split with a 60%/20%/20% distribution\n",
    "df_train, df_val_test = train_test_split(data, test_size=0.4, random_state=1)\n",
    "df_val, df_test = train_test_split(df_val_test, test_size=0.5, random_state=1)\n",
    "\n",
    "# Initialize training features\n",
    "features = [\"longitude\", \"latitude\", \"housing_median_age\", \"total_rooms\", \"total_bedrooms\", \"population\", \"households\", \"median_income\", \"ocean_proximity\"]\n",
    "\n",
    "# Convert data to dictionaries\n",
    "train_dicts = df_train[features].to_dict(orient='records')\n",
    "val_dicts = df_val[features].to_dict(orient='records')\n",
    "\n",
    "# Initialize DictVectorizer\n",
    "dv = DictVectorizer(sparse=True)\n",
    "X_train = dv.fit_transform(train_dicts)\n",
    "X_val = dv.transform(val_dicts)\n",
    "y_train = df_train['median_house_value'].values\n",
    "y_val = df_val['median_house_value'].values\n",
    "\n",
    "# Question 1\n",
    "# Train a decision tree regressor with max_depth=1\n",
    "dt = DecisionTreeRegressor(max_depth=1)\n",
    "dt.fit(X_train, y_train)\n",
    "\n",
    "# Print the feature used for splitting the data\n",
    "from sklearn.tree import export_text\n",
    "tree_rules = export_text(dt, feature_names=list(dv.get_feature_names_out()))\n",
    "print(tree_rules)"
   ]
  },
  {
   "cell_type": "code",
   "execution_count": 11,
   "id": "017351aa",
   "metadata": {},
   "outputs": [
    {
     "name": "stdout",
     "output_type": "stream",
     "text": [
      "0.23494749481338612\n"
     ]
    }
   ],
   "source": [
    "# Question 2\n",
    "# Train a random forest model\n",
    "rf = RandomForestRegressor(n_estimators=10, random_state=1, n_jobs=-1)\n",
    "rf.fit(X_train, y_train)\n",
    "\n",
    "# Calculate RMSE on the validation set\n",
    "y_pred = rf.predict(X_val)\n",
    "rmse = np.sqrt(mean_squared_error(y_val, y_pred))\n",
    "print(rmse)"
   ]
  },
  {
   "cell_type": "code",
   "execution_count": 12,
   "id": "98a34b6c",
   "metadata": {},
   "outputs": [
    {
     "data": {
      "application/vnd.jupyter.widget-view+json": {
       "model_id": "c10f6c3b34d442e6a0db057e90f1b162",
       "version_major": 2,
       "version_minor": 0
      },
      "text/plain": [
       "  0%|          | 0/20 [00:00<?, ?it/s]"
      ]
     },
     "metadata": {},
     "output_type": "display_data"
    },
    {
     "data": {
      "image/png": "[encoded data removed]",
      "text/plain": [
       "<Figure size 640x480 with 1 Axes>"
      ]
     },
     "metadata": {},
     "output_type": "display_data"
    },
    {
     "name": "stdout",
     "output_type": "stream",
     "text": [
      "    n_estimators      rmse\n",
      "14           150  0.220144\n"
     ]
    }
   ],
   "source": [
    "# Question 3\n",
    "# Experiment with the n_estimators parameter\n",
    "scores = []\n",
    "\n",
    "for n in tqdm(range(10, 201, 10)):\n",
    "    rf = RandomForestRegressor(n_estimators=n, random_state=1, n_jobs=-1)\n",
    "    rf.fit(X_train, y_train)\n",
    "    \n",
    "    y_pred = rf.predict(X_val)\n",
    "    score = np.sqrt(mean_squared_error(y_val, y_pred))\n",
    "    \n",
    "    scores.append((n, score))\n",
    "\n",
    "df_scores = pd.DataFrame(scores, columns=['n_estimators', 'rmse'])\n",
    "\n",
    "# Plot RMSE scores\n",
    "plt.plot(df_scores['n_estimators'], df_scores['rmse'].round(3))\n",
    "plt.xlabel('n_estimators')\n",
    "plt.ylabel('RMSE')\n",
    "plt.show()\n",
    "\n",
    "# After which value of n_estimators does RMSE stop improving?\n",
    "print(df_scores[df_scores['rmse'] == df_scores['rmse'].min()])"
   ]
  },
  {
   "cell_type": "code",
   "execution_count": 13,
   "id": "9138de29",
   "metadata": {},
   "outputs": [
    {
     "data": {
      "application/vnd.jupyter.widget-view+json": {
       "model_id": "ecb5625134ce4c0a9fd2e1861c11c6bb",
       "version_major": 2,
       "version_minor": 0
      },
      "text/plain": [
       "  0%|          | 0/20 [00:00<?, ?it/s]"
      ]
     },
     "metadata": {},
     "output_type": "display_data"
    },
    {
     "data": {
      "application/vnd.jupyter.widget-view+json": {
       "model_id": "54731b1c8bad4556960755f2af137623",
       "version_major": 2,
       "version_minor": 0
      },
      "text/plain": [
       "  0%|          | 0/20 [00:00<?, ?it/s]"
      ]
     },
     "metadata": {},
     "output_type": "display_data"
    },
    {
     "data": {
      "application/vnd.jupyter.widget-view+json": {
       "model_id": "368b38ec0cb946d6984057fa03f2c31c",
       "version_major": 2,
       "version_minor": 0
      },
      "text/plain": [
       "  0%|          | 0/20 [00:00<?, ?it/s]"
      ]
     },
     "metadata": {},
     "output_type": "display_data"
    },
    {
     "data": {
      "application/vnd.jupyter.widget-view+json": {
       "model_id": "ebdf95ccf16f424ea6d0920f9bae718b",
       "version_major": 2,
       "version_minor": 0
      },
      "text/plain": [
       "  0%|          | 0/20 [00:00<?, ?it/s]"
      ]
     },
     "metadata": {},
     "output_type": "display_data"
    },
    {
     "name": "stdout",
     "output_type": "stream",
     "text": [
      "Best max_depth: 25\n"
     ]
    }
   ],
   "source": [
    "# Question 4\n",
    "# Select the best max_depth\n",
    "scores = []\n",
    "\n",
    "for d in [10, 15, 20, 25]:\n",
    "    for n in tqdm(range(10, 201, 10)):\n",
    "        rf = RandomForestRegressor(n_estimators=n, max_depth=d, random_state=1, n_jobs=-1)\n",
    "        rf.fit(X_train, y_train)\n",
    "        \n",
    "        y_pred = rf.predict(X_val)\n",
    "        score = np.sqrt(mean_squared_error(y_val, y_pred))\n",
    "        \n",
    "        scores.append((d, n, score))\n",
    "\n",
    "df_scores = pd.DataFrame(scores, columns=['max_depth', 'n_estimators', 'rmse'])\n",
    "\n",
    "# Calculate the mean RMSE for each max_depth\n",
    "mean_rmse = df_scores.groupby('max_depth')['rmse'].mean()\n",
    "best_max_depth = mean_rmse.idxmin()\n",
    "print(f'Best max_depth: {best_max_depth}')"
   ]
  },
  {
   "cell_type": "code",
   "execution_count": 35,
   "id": "91233ece",
   "metadata": {},
   "outputs": [
    {
     "name": "stdout",
     "output_type": "stream",
     "text": [
      "feature       median_income\n",
      "importance         0.338044\n",
      "Name: 4, dtype: object\n"
     ]
    }
   ],
   "source": [
    "# Find the most important feature in a random forest model\n",
    "rf = RandomForestRegressor(n_estimators=10, max_depth=20, random_state=1, n_jobs=-1)\n",
    "rf.fit(X_train, y_train)\n",
    "\n",
    "# Get feature importances\n",
    "feature_importances = rf.feature_importances_\n",
    "\n",
    "# Get feature names using get_feature_names_out()\n",
    "feature_names = dv.get_feature_names_out()\n",
    "\n",
    "# Create a DataFrame to display feature importances\n",
    "df_importances = pd.DataFrame({'feature': feature_names, 'importance': feature_importances})\n",
    "\n",
    "# Sort by importance in descending order\n",
    "df_importances = df_importances.sort_values(by='importance', ascending=False)\n",
    "\n",
    "# Print the top feature\n",
    "print(df_importances.iloc[0])\n"
   ]
  },
  {
   "cell_type": "code",
   "execution_count": 44,
   "id": "1df84cf4",
   "metadata": {},
   "outputs": [
    {
     "name": "stdout",
     "output_type": "stream",
     "text": [
      "[0]\ttrain-rmse:0.44258\tval-rmse:0.44336\n",
      "[5]\ttrain-rmse:0.25176\tval-rmse:0.26474\n",
      "[10]\ttrain-rmse:0.21631\tval-rmse:0.24121\n",
      "[15]\ttrain-rmse:0.19798\tval-rmse:0.23304\n",
      "[20]\ttrain-rmse:0.18518\tval-rmse:0.22786\n",
      "[25]\ttrain-rmse:0.17484\tval-rmse:0.22399\n",
      "[30]\ttrain-rmse:0.16752\tval-rmse:0.22247\n",
      "[35]\ttrain-rmse:0.16119\tval-rmse:0.22118\n",
      "[40]\ttrain-rmse:0.15444\tval-rmse:0.21964\n",
      "[45]\ttrain-rmse:0.14841\tval-rmse:0.21817\n",
      "[50]\ttrain-rmse:0.14353\tval-rmse:0.21757\n",
      "[55]\ttrain-rmse:0.13892\tval-rmse:0.21717\n",
      "[60]\ttrain-rmse:0.13471\tval-rmse:0.21619\n",
      "[65]\ttrain-rmse:0.13026\tval-rmse:0.21590\n",
      "[70]\ttrain-rmse:0.12744\tval-rmse:0.21604\n",
      "[75]\ttrain-rmse:0.12357\tval-rmse:0.21557\n",
      "[80]\ttrain-rmse:0.12082\tval-rmse:0.21559\n",
      "[85]\ttrain-rmse:0.11825\tval-rmse:0.21554\n",
      "[90]\ttrain-rmse:0.11604\tval-rmse:0.21530\n",
      "[95]\ttrain-rmse:0.11241\tval-rmse:0.21565\n",
      "[99]\ttrain-rmse:0.10935\tval-rmse:0.21539\n",
      "[0]\ttrain-rmse:0.52259\tval-rmse:0.52103\n",
      "[5]\ttrain-rmse:0.37677\tval-rmse:0.38047\n",
      "[10]\ttrain-rmse:0.30297\tval-rmse:0.31079\n",
      "[15]\ttrain-rmse:0.26431\tval-rmse:0.27667\n",
      "[20]\ttrain-rmse:0.24383\tval-rmse:0.26035\n",
      "[25]\ttrain-rmse:0.22987\tval-rmse:0.24960\n",
      "[30]\ttrain-rmse:0.21939\tval-rmse:0.24255\n",
      "[35]\ttrain-rmse:0.21113\tval-rmse:0.23797\n",
      "[40]\ttrain-rmse:0.20432\tval-rmse:0.23461\n",
      "[45]\ttrain-rmse:0.19951\tval-rmse:0.23179\n",
      "[50]\ttrain-rmse:0.19516\tval-rmse:0.22955\n",
      "[55]\ttrain-rmse:0.19131\tval-rmse:0.22823\n",
      "[60]\ttrain-rmse:0.18774\tval-rmse:0.22659\n",
      "[65]\ttrain-rmse:0.18511\tval-rmse:0.22575\n",
      "[70]\ttrain-rmse:0.18168\tval-rmse:0.22439\n",
      "[75]\ttrain-rmse:0.17818\tval-rmse:0.22349\n",
      "[80]\ttrain-rmse:0.17491\tval-rmse:0.22263\n",
      "[85]\ttrain-rmse:0.17190\tval-rmse:0.22131\n",
      "[90]\ttrain-rmse:0.16932\tval-rmse:0.22056\n",
      "[95]\ttrain-rmse:0.16682\tval-rmse:0.21993\n",
      "[99]\ttrain-rmse:0.16501\tval-rmse:0.21941\n",
      "RMSE for eta=0.3: [0]\teval-rmse:0.21538840333399784\n",
      "RMSE for eta=0.1: [0]\teval-rmse:0.21940605608984690\n"
     ]
    }
   ],
   "source": [
    "# Question 6: XGBoost\n",
    "dtrain = xgb.DMatrix(X_train, label=y_train)\n",
    "dval = xgb.DMatrix(X_val, label=y_val)\n",
    "\n",
    "watchlist = [(dtrain, 'train'), (dval, 'val')]\n",
    "\n",
    "xgb_params_0_3 = {\n",
    "    'eta': 0.3,\n",
    "    'max_depth': 6,\n",
    "    'min_child_weight': 1,\n",
    "    'objective': 'reg:squarederror',\n",
    "    'nthread': 8,\n",
    "    'seed': 1,\n",
    "    'verbosity': 1,\n",
    "}\n",
    "\n",
    "model_0_3 = xgb.train(xgb_params_0_3, dtrain, num_boost_round=100, verbose_eval=5, evals=watchlist)\n",
    "\n",
    "xgb_params_0_1 = {\n",
    "    'eta': 0.1,\n",
    "    'max_depth': 6,\n",
    "    'min_child_weight': 1,\n",
    "    'objective': 'reg:squarederror',\n",
    "    'nthread': 8,\n",
    "    'seed': 1,\n",
    "    'verbosity': 1,\n",
    "}\n",
    "\n",
    "model_0_1 = xgb.train(xgb_params_0_1, dtrain, num_boost_round=100, verbose_eval=5, evals=watchlist)\n",
    "\n",
    "rmse_0_3 = model_0_3.eval(dval)\n",
    "rmse_0_1 = model_0_1.eval(dval)\n",
    "\n",
    "print(f\"RMSE for eta=0.3: {rmse_0_3}\")\n",
    "print(f\"RMSE for eta=0.1: {rmse_0_1}\")\n"
   ]
  }
 ],
 "metadata": {
  "kernelspec": {
   "display_name": "Python 3 (ipykernel)",
   "language": "python",
   "name": "python3"
  },
  "language_info": {
   "codemirror_mode": {
    "name": "ipython",
    "version": 3
   },
   "file_extension": ".py",
   "mimetype": "text/x-python",
   "name": "python",
   "nbconvert_exporter": "python",
   "pygments_lexer": "ipython3",
   "version": "3.9.18"
  }
 },
 "nbformat": 4,
 "nbformat_minor": 5
}
